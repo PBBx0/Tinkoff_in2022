{
 "cells": [
  {
   "cell_type": "code",
   "execution_count": 1,
   "id": "a191d74b",
   "metadata": {},
   "outputs": [],
   "source": [
    "import re\n",
    "import os\n",
    "DATA_FOLDER = 'data'\n",
    "# print(len(os.listdir(os.path.join(os.getcwd(), DATA_FOLDER))))\n",
    "text = ''\n",
    "for filename in os.listdir(os.path.join(os.getcwd(), DATA_FOLDER)):\n",
    "    with open(os.path.join(os.getcwd(), DATA_FOLDER, filename), 'r') as f:\n",
    "        text += f.read() + ' '\n",
    "l = []\n",
    "sentences = text.split('.')\n",
    "for sentence in sentences:\n",
    "    tmp = list(map(lambda s: s.lower(), re.findall(r'[\\w]+', sentence)))\n",
    "    tmp.append('.')\n",
    "    l.extend(tmp)\n"
   ]
  },
  {
   "cell_type": "code",
   "execution_count": 2,
   "id": "ff1f5c6b",
   "metadata": {},
   "outputs": [],
   "source": [
    "nxt = dict()\n",
    "def add_k_grammas(k):\n",
    "    for i in range(len(l) - k + 1):\n",
    "        nxt[tuple([l[j] for j in range(i, i + k)])] = dict()\n",
    "    for i in range(len(l) - k):\n",
    "        nxt[tuple([l[j] for j in range(i, i + k)])][l[i + k]] = nxt[tuple([l[j] for j in range(i, i + k)])].get(l[i + k], 0) + 1\n",
    "for i in range(1, 4):\n",
    "    add_k_grammas(i)"
   ]
  },
  {
   "cell_type": "code",
   "execution_count": 3,
   "id": "180f3c3c",
   "metadata": {},
   "outputs": [],
   "source": [
    "import random\n",
    "\n",
    "def get_next_word(words):\n",
    "\n",
    "    while words not in nxt.keys():\n",
    "        words = words[1:]\n",
    "        if len(words) == 0:\n",
    "            print(\"Something's wrong\")\n",
    "            return '.'\n",
    "    probability = random.random() * sum(nxt[words].values())\n",
    "    for w, p in nxt[words].items():\n",
    "        probability -= p\n",
    "        if probability <= 0:\n",
    "            return w\n",
    "        \n",
    "def get_next(words):\n",
    "    while words not in nxt.keys():\n",
    "        words = words[1:]\n",
    "        if len(words) == 0:\n",
    "            print(\"Something's wrong\")\n",
    "            return '.'\n",
    "    w = get_next_word(words)\n",
    "    tmp = list(words)\n",
    "    tmp.append(w)\n",
    "    return tuple(tmp)\n",
    "\n",
    "def print_sentence(prefix):\n",
    "    print(*prefix, end=' ')\n",
    "    while prefix[-1] != '.':\n",
    "        prefix = get_next(prefix)\n",
    "        print(prefix[-1], end=' ')\n",
    "    print('\\n')\n",
    "\n",
    "def print_sentence_started_with_prefix():\n",
    "    words = tuple(input().lower().split())\n",
    "    print_sentence(words)\n",
    "        \n",
    "def print_random_sentence():\n",
    "    start_word = get_next_word(tuple('.'))\n",
    "    print_sentence(tuple((start_word,)))\n"
   ]
  },
  {
   "cell_type": "code",
   "execution_count": 4,
   "id": "c990b438",
   "metadata": {},
   "outputs": [
    {
     "name": "stdout",
     "output_type": "stream",
     "text": [
      "в российской империи армия была одним из источников таких специалистов . \n",
      "\n"
     ]
    }
   ],
   "source": [
    "print_random_sentence()"
   ]
  },
  {
   "cell_type": "code",
   "execution_count": 5,
   "id": "781319ea",
   "metadata": {},
   "outputs": [
    {
     "name": "stdout",
     "output_type": "stream",
     "text": [
      "ich\n",
      "ich geb ihn der ewig beweglichen immer neuen seltsamsten tochter jovis seinem schooskinde der phantasie 153 и проч . \n",
      "\n"
     ]
    }
   ],
   "source": [
    "print_sentence_started_with_prefix()"
   ]
  }
 ],
 "metadata": {
  "kernelspec": {
   "display_name": "Python 3 (ipykernel)",
   "language": "python",
   "name": "python3"
  },
  "language_info": {
   "codemirror_mode": {
    "name": "ipython",
    "version": 3
   },
   "file_extension": ".py",
   "mimetype": "text/x-python",
   "name": "python",
   "nbconvert_exporter": "python",
   "pygments_lexer": "ipython3",
   "version": "3.10.6"
  }
 },
 "nbformat": 4,
 "nbformat_minor": 5
}
